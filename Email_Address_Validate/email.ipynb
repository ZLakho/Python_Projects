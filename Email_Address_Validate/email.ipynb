{
 "cells": [
  {
   "cell_type": "code",
   "execution_count": 24,
   "metadata": {},
   "outputs": [
    {
     "name": "stdout",
     "output_type": "stream",
     "text": [
      "Wrong email as it contains more than 1 @ symbol\n"
     ]
    }
   ],
   "source": [
    "email = input(\"Enter your Email: \")\n",
    "\n",
    "if len(email) >= 6:\n",
    "    if email[0].isalpha():\n",
    "        if \"@\" in email:\n",
    "            if email.count(\"@\") == 1:\n",
    "                if \".\" in email:\n",
    "                    if (email[-3] == \".\") ^ (email[-4] == \".\"): # xor condition \n",
    "                        for i in email:\n",
    "                            if i.isspace():\n",
    "                                print(\"Wrong email as it contains spaces\")\n",
    "                                break\n",
    "                            elif i.isalpha() and i == i.upper():\n",
    "                                print(\"Wrong email as it contains uppercase alphabet\")\n",
    "                                break\n",
    "                            elif not (i.isalnum() or i in \"_@.\"):\n",
    "                                print(\"Wrong email as it contains invalid syntax\")\n",
    "                                break\n",
    "                        else:\n",
    "                            print(\"Right email\")\n",
    "                    else:\n",
    "                        print(\"Wrong email as . is not placed correctly\")\n",
    "                else:\n",
    "                    print(\"Wrong email as it doesn't contain any . symbol\")\n",
    "            else:\n",
    "                print(\"Wrong email as it contains more than 1 @ symbol\")\n",
    "        else:\n",
    "            print(\"Wrong email as it doesn't contain any @ symbol\")\n",
    "    else:\n",
    "        print(\"Wrong email as the first character should be an alphabet\")\n",
    "else:\n",
    "    print(\"Wrong email as it doesn't fulfill the valid email requirements\")\n"
   ]
  }
 ],
 "metadata": {
  "kernelspec": {
   "display_name": "Python 3",
   "language": "python",
   "name": "python3"
  },
  "language_info": {
   "codemirror_mode": {
    "name": "ipython",
    "version": 3
   },
   "file_extension": ".py",
   "mimetype": "text/x-python",
   "name": "python",
   "nbconvert_exporter": "python",
   "pygments_lexer": "ipython3",
   "version": "3.12.1"
  }
 },
 "nbformat": 4,
 "nbformat_minor": 2
}
