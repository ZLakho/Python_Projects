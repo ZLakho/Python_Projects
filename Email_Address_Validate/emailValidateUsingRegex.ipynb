{
 "cells": [
  {
   "cell_type": "markdown",
   "metadata": {},
   "source": [
    "- a-z should be small\n",
    "- 0-9 numbers\n",
    "- . or _ occurs only once\n",
    "- @ only once\n",
    "- . should be at position -2 or -3"
   ]
  },
  {
   "cell_type": "code",
   "execution_count": 2,
   "metadata": {},
   "outputs": [],
   "source": [
    "import re"
   ]
  },
  {
   "cell_type": "markdown",
   "metadata": {},
   "source": [
    "- ^ used for starting position of string as string[0]\n",
    "- \\ used in regex as search function for characters\n",
    "- ? used for once condition\n",
    "- \\w used in regex as search function for special characters\n",
    "- $ used in regex to specify serach from last as from - sequence"
   ]
  },
  {
   "cell_type": "markdown",
   "metadata": {},
   "source": []
  },
  {
   "cell_type": "code",
   "execution_count": 7,
   "metadata": {},
   "outputs": [
    {
     "name": "stderr",
     "output_type": "stream",
     "text": [
      "<>:1: SyntaxWarning: invalid escape sequence '\\.'\n",
      "<>:1: SyntaxWarning: invalid escape sequence '\\.'\n",
      "C:\\Users\\Engr Zainab Lakho\\AppData\\Local\\Temp\\ipykernel_9768\\66980740.py:1: SyntaxWarning: invalid escape sequence '\\.'\n",
      "  emailCondition = \"^[a-z]+[\\._]?[a-z 0-9]+[@]\\w+[.]\\w{2,3}$\"\n"
     ]
    },
    {
     "name": "stdout",
     "output_type": "stream",
     "text": [
      "Right email\n"
     ]
    }
   ],
   "source": [
    "emailCondition = \"^[a-z]+[\\._]?[a-z 0-9]+[@]\\w+[.]\\w{2,3}$\"\n",
    "user_email = input(\"Enter you email: \")\n",
    "if re.search(emailCondition, user_email):\n",
    "    print(\"Right email\")\n",
    "else:\n",
    "    print(\"Wrong email\")"
   ]
  }
 ],
 "metadata": {
  "kernelspec": {
   "display_name": "Python 3",
   "language": "python",
   "name": "python3"
  },
  "language_info": {
   "codemirror_mode": {
    "name": "ipython",
    "version": 3
   },
   "file_extension": ".py",
   "mimetype": "text/x-python",
   "name": "python",
   "nbconvert_exporter": "python",
   "pygments_lexer": "ipython3",
   "version": "3.12.1"
  }
 },
 "nbformat": 4,
 "nbformat_minor": 2
}
