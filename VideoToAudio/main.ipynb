{
 "cells": [
  {
   "cell_type": "code",
   "execution_count": 1,
   "metadata": {},
   "outputs": [],
   "source": [
    "import moviepy.editor\n",
    "from tkinter.filedialog import *\n",
    "\n",
    "vid = askopenfilename() # opens folder\n",
    "video = moviepy.editor.VideoFileClip(vid) # video will store here---cide canbe your video path directly\n",
    "\n",
    "audio_converted = video.audio\n",
    "\n",
    "audio_converted.write_audiofile(\"Demo.mp3\")\n",
    "\n",
    "print(\"Program ends here....\")\n",
    "\n"
   ]
  },
  {
   "cell_type": "code",
   "execution_count": null,
   "metadata": {},
   "outputs": [],
   "source": []
  }
 ],
 "metadata": {
  "kernelspec": {
   "display_name": "Python 3",
   "language": "python",
   "name": "python3"
  },
  "language_info": {
   "codemirror_mode": {
    "name": "ipython",
    "version": 3
   },
   "file_extension": ".py",
   "mimetype": "text/x-python",
   "name": "python",
   "nbconvert_exporter": "python",
   "pygments_lexer": "ipython3",
   "version": "3.12.1"
  }
 },
 "nbformat": 4,
 "nbformat_minor": 2
}
