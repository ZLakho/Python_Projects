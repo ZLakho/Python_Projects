{
 "cells": [
  {
   "cell_type": "markdown",
   "metadata": {},
   "source": [
    "# PyWhatKit\n",
    "- used to convert text into handwritting"
   ]
  },
  {
   "cell_type": "code",
   "execution_count": 8,
   "metadata": {},
   "outputs": [
    {
     "name": "stdout",
     "output_type": "stream",
     "text": [
      "Requirement already satisfied: pywhatkit in c:\\users\\engr zainab lakho\\appdata\\local\\programs\\python\\python312\\lib\\site-packages (5.4)\n",
      "Requirement already satisfied: Pillow in c:\\users\\engr zainab lakho\\appdata\\local\\programs\\python\\python312\\lib\\site-packages (from pywhatkit) (10.2.0)\n",
      "Requirement already satisfied: pyautogui in c:\\users\\engr zainab lakho\\appdata\\local\\programs\\python\\python312\\lib\\site-packages (from pywhatkit) (0.9.54)\n",
      "Requirement already satisfied: requests in c:\\users\\engr zainab lakho\\appdata\\local\\programs\\python\\python312\\lib\\site-packages (from pywhatkit) (2.31.0)\n",
      "Requirement already satisfied: wikipedia in c:\\users\\engr zainab lakho\\appdata\\local\\programs\\python\\python312\\lib\\site-packages (from pywhatkit) (1.4.0)\n",
      "Requirement already satisfied: Flask in c:\\users\\engr zainab lakho\\appdata\\local\\programs\\python\\python312\\lib\\site-packages (from pywhatkit) (3.0.1)\n",
      "Requirement already satisfied: Werkzeug>=3.0.0 in c:\\users\\engr zainab lakho\\appdata\\local\\programs\\python\\python312\\lib\\site-packages (from Flask->pywhatkit) (3.0.1)\n",
      "Requirement already satisfied: Jinja2>=3.1.2 in c:\\users\\engr zainab lakho\\appdata\\local\\programs\\python\\python312\\lib\\site-packages (from Flask->pywhatkit) (3.1.3)\n",
      "Requirement already satisfied: itsdangerous>=2.1.2 in c:\\users\\engr zainab lakho\\appdata\\local\\programs\\python\\python312\\lib\\site-packages (from Flask->pywhatkit) (2.1.2)\n",
      "Requirement already satisfied: click>=8.1.3 in c:\\users\\engr zainab lakho\\appdata\\local\\programs\\python\\python312\\lib\\site-packages (from Flask->pywhatkit) (8.1.7)\n",
      "Requirement already satisfied: blinker>=1.6.2 in c:\\users\\engr zainab lakho\\appdata\\local\\programs\\python\\python312\\lib\\site-packages (from Flask->pywhatkit) (1.7.0)\n",
      "Requirement already satisfied: pymsgbox in c:\\users\\engr zainab lakho\\appdata\\local\\programs\\python\\python312\\lib\\site-packages (from pyautogui->pywhatkit) (1.0.9)\n",
      "Requirement already satisfied: pytweening>=1.0.4 in c:\\users\\engr zainab lakho\\appdata\\local\\programs\\python\\python312\\lib\\site-packages (from pyautogui->pywhatkit) (1.2.0)\n",
      "Requirement already satisfied: pyscreeze>=0.1.21 in c:\\users\\engr zainab lakho\\appdata\\local\\programs\\python\\python312\\lib\\site-packages (from pyautogui->pywhatkit) (0.1.30)\n",
      "Requirement already satisfied: pygetwindow>=0.0.5 in c:\\users\\engr zainab lakho\\appdata\\local\\programs\\python\\python312\\lib\\site-packages (from pyautogui->pywhatkit) (0.0.9)\n",
      "Requirement already satisfied: mouseinfo in c:\\users\\engr zainab lakho\\appdata\\local\\programs\\python\\python312\\lib\\site-packages (from pyautogui->pywhatkit) (0.1.3)\n",
      "Requirement already satisfied: charset-normalizer<4,>=2 in c:\\users\\engr zainab lakho\\appdata\\local\\programs\\python\\python312\\lib\\site-packages (from requests->pywhatkit) (3.3.2)\n",
      "Requirement already satisfied: idna<4,>=2.5 in c:\\users\\engr zainab lakho\\appdata\\local\\programs\\python\\python312\\lib\\site-packages (from requests->pywhatkit) (3.6)\n",
      "Requirement already satisfied: urllib3<3,>=1.21.1 in c:\\users\\engr zainab lakho\\appdata\\local\\programs\\python\\python312\\lib\\site-packages (from requests->pywhatkit) (2.1.0)\n",
      "Requirement already satisfied: certifi>=2017.4.17 in c:\\users\\engr zainab lakho\\appdata\\local\\programs\\python\\python312\\lib\\site-packages (from requests->pywhatkit) (2023.11.17)\n",
      "Requirement already satisfied: beautifulsoup4 in c:\\users\\engr zainab lakho\\appdata\\local\\programs\\python\\python312\\lib\\site-packages (from wikipedia->pywhatkit) (4.12.3)\n",
      "Requirement already satisfied: colorama in c:\\users\\engr zainab lakho\\appdata\\local\\programs\\python\\python312\\lib\\site-packages (from click>=8.1.3->Flask->pywhatkit) (0.4.6)\n",
      "Requirement already satisfied: MarkupSafe>=2.0 in c:\\users\\engr zainab lakho\\appdata\\local\\programs\\python\\python312\\lib\\site-packages (from Jinja2>=3.1.2->Flask->pywhatkit) (2.1.4)\n",
      "Requirement already satisfied: pyrect in c:\\users\\engr zainab lakho\\appdata\\local\\programs\\python\\python312\\lib\\site-packages (from pygetwindow>=0.0.5->pyautogui->pywhatkit) (0.2.0)\n",
      "Requirement already satisfied: soupsieve>1.2 in c:\\users\\engr zainab lakho\\appdata\\local\\programs\\python\\python312\\lib\\site-packages (from beautifulsoup4->wikipedia->pywhatkit) (2.5)\n",
      "Requirement already satisfied: pyperclip in c:\\users\\engr zainab lakho\\appdata\\local\\programs\\python\\python312\\lib\\site-packages (from mouseinfo->pyautogui->pywhatkit) (1.9.0)\n",
      "Note: you may need to restart the kernel to use updated packages.\n"
     ]
    },
    {
     "name": "stderr",
     "output_type": "stream",
     "text": [
      "\n",
      "[notice] A new release of pip is available: 24.0 -> 24.1\n",
      "[notice] To update, run: python.exe -m pip install --upgrade pip\n"
     ]
    }
   ],
   "source": [
    "pip install --upgrade pywhatkit\n"
   ]
  },
  {
   "cell_type": "code",
   "execution_count": 2,
   "metadata": {},
   "outputs": [],
   "source": [
    "import pywhatkit as py"
   ]
  },
  {
   "cell_type": "code",
   "execution_count": 3,
   "metadata": {},
   "outputs": [],
   "source": [
    "txt = \"\"\"You can change the demo and handwriting type with the help of codes in the program in the image format. Text colors can also be changed with code in Python. You just need to know the basics of Python, and you can perform this project.\n",
    "\n",
    "Our trainer will take you through this project with everything in detail. For the text to handwriting converter project, you will have to make a file in any folder, rename it, generate a pull request, and the image with handwriting will be in the folder.\n",
    "\n",
    "Watch our full playlist on the Python projects, and it will help you learn more about the Python programming language.\"\"\""
   ]
  },
  {
   "cell_type": "code",
   "execution_count": null,
   "metadata": {},
   "outputs": [],
   "source": [
    "py.text_to_handwriting(txt,\"demo1.png\",[255,255,255])"
   ]
  },
  {
   "cell_type": "code",
   "execution_count": 5,
   "metadata": {},
   "outputs": [
    {
     "name": "stdout",
     "output_type": "stream",
     "text": [
      "end\n"
     ]
    }
   ],
   "source": [
    "print(\"end\")"
   ]
  },
  {
   "cell_type": "markdown",
   "metadata": {},
   "source": [
    "- checking versiom"
   ]
  },
  {
   "cell_type": "code",
   "execution_count": 6,
   "metadata": {},
   "outputs": [
    {
     "name": "stdout",
     "output_type": "stream",
     "text": [
      "Version 5.3 (Stable)\n"
     ]
    }
   ],
   "source": [
    "print(py.__VERSION__)"
   ]
  },
  {
   "cell_type": "markdown",
   "metadata": {},
   "source": [
    "- wil convert user input text into human handwritting format"
   ]
  },
  {
   "cell_type": "code",
   "execution_count": null,
   "metadata": {},
   "outputs": [],
   "source": [
    "import pywhatkit as py\n",
    "\n",
    "txt = input(\"Enter your text here: \")\n",
    "\n",
    "py.text_to_handwriting(txt,\"demo1.png\",[255,255,255])\n",
    "print(\"End\")"
   ]
  },
  {
   "cell_type": "code",
   "execution_count": null,
   "metadata": {},
   "outputs": [],
   "source": []
  }
 ],
 "metadata": {
  "kernelspec": {
   "display_name": "Python 3",
   "language": "python",
   "name": "python3"
  },
  "language_info": {
   "codemirror_mode": {
    "name": "ipython",
    "version": 3
   },
   "file_extension": ".py",
   "mimetype": "text/x-python",
   "name": "python",
   "nbconvert_exporter": "python",
   "pygments_lexer": "ipython3",
   "version": "3.12.1"
  }
 },
 "nbformat": 4,
 "nbformat_minor": 2
}
