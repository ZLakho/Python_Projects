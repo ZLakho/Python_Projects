{
 "cells": [
  {
   "cell_type": "markdown",
   "metadata": {},
   "source": [
    "# installing instabot library to work with instagram or related functions"
   ]
  },
  {
   "cell_type": "code",
   "execution_count": 9,
   "metadata": {},
   "outputs": [
    {
     "name": "stdout",
     "output_type": "stream",
     "text": [
      "Requirement already satisfied: instabot in c:\\users\\engr zainab lakho\\appdata\\local\\programs\\python\\python312\\lib\\site-packages (0.117.0)\n",
      "Requirement already satisfied: certifi>=2019.11.28 in c:\\users\\engr zainab lakho\\appdata\\local\\programs\\python\\python312\\lib\\site-packages (from instabot) (2023.11.17)\n",
      "Requirement already satisfied: chardet>=3.0.4 in c:\\users\\engr zainab lakho\\appdata\\local\\programs\\python\\python312\\lib\\site-packages (from instabot) (5.2.0)\n",
      "Requirement already satisfied: future>=0.18.2 in c:\\users\\engr zainab lakho\\appdata\\local\\programs\\python\\python312\\lib\\site-packages (from instabot) (1.0.0)\n",
      "Requirement already satisfied: huepy>=1.2.1 in c:\\users\\engr zainab lakho\\appdata\\local\\programs\\python\\python312\\lib\\site-packages (from instabot) (1.2.1)\n",
      "Requirement already satisfied: idna>=2.8 in c:\\users\\engr zainab lakho\\appdata\\local\\programs\\python\\python312\\lib\\site-packages (from instabot) (3.6)\n",
      "Requirement already satisfied: pysocks>=1.7.1 in c:\\users\\engr zainab lakho\\appdata\\local\\programs\\python\\python312\\lib\\site-packages (from instabot) (1.7.1)\n",
      "Requirement already satisfied: pytz>=2019.3 in c:\\users\\engr zainab lakho\\appdata\\local\\programs\\python\\python312\\lib\\site-packages (from instabot) (2023.3.post1)\n",
      "Requirement already satisfied: requests>=2.22.0 in c:\\users\\engr zainab lakho\\appdata\\local\\programs\\python\\python312\\lib\\site-packages (from instabot) (2.31.0)\n",
      "Requirement already satisfied: requests-toolbelt>=0.9.1 in c:\\users\\engr zainab lakho\\appdata\\local\\programs\\python\\python312\\lib\\site-packages (from instabot) (1.0.0)\n",
      "Requirement already satisfied: responses>=0.10.9 in c:\\users\\engr zainab lakho\\appdata\\local\\programs\\python\\python312\\lib\\site-packages (from instabot) (0.25.3)\n",
      "Requirement already satisfied: schedule>=0.6.0 in c:\\users\\engr zainab lakho\\appdata\\local\\programs\\python\\python312\\lib\\site-packages (from instabot) (1.2.2)\n",
      "Requirement already satisfied: six>=1.14.0 in c:\\users\\engr zainab lakho\\appdata\\local\\programs\\python\\python312\\lib\\site-packages (from instabot) (1.16.0)\n",
      "Requirement already satisfied: tqdm>=4.41.1 in c:\\users\\engr zainab lakho\\appdata\\local\\programs\\python\\python312\\lib\\site-packages (from instabot) (4.66.1)\n",
      "Requirement already satisfied: urllib3>=1.25.7 in c:\\users\\engr zainab lakho\\appdata\\local\\programs\\python\\python312\\lib\\site-packages (from instabot) (2.1.0)\n",
      "Requirement already satisfied: mock>=3.0.5 in c:\\users\\engr zainab lakho\\appdata\\local\\programs\\python\\python312\\lib\\site-packages (from instabot) (5.1.0)\n",
      "Requirement already satisfied: moviepy>=1.0.1 in c:\\users\\engr zainab lakho\\appdata\\local\\programs\\python\\python312\\lib\\site-packages (from instabot) (1.0.3)\n",
      "Requirement already satisfied: Pillow>=6.2.2 in c:\\users\\engr zainab lakho\\appdata\\local\\programs\\python\\python312\\lib\\site-packages (from instabot) (10.2.0)\n",
      "Requirement already satisfied: pytest>=4.6.9 in c:\\users\\engr zainab lakho\\appdata\\local\\programs\\python\\python312\\lib\\site-packages (from instabot) (8.2.2)\n",
      "Requirement already satisfied: decorator<5.0,>=4.0.2 in c:\\users\\engr zainab lakho\\appdata\\local\\programs\\python\\python312\\lib\\site-packages (from moviepy>=1.0.1->instabot) (4.4.2)\n",
      "Requirement already satisfied: proglog<=1.0.0 in c:\\users\\engr zainab lakho\\appdata\\local\\programs\\python\\python312\\lib\\site-packages (from moviepy>=1.0.1->instabot) (0.1.10)\n",
      "Requirement already satisfied: numpy>=1.17.3 in c:\\users\\engr zainab lakho\\appdata\\local\\programs\\python\\python312\\lib\\site-packages (from moviepy>=1.0.1->instabot) (1.26.4)\n",
      "Requirement already satisfied: imageio<3.0,>=2.5 in c:\\users\\engr zainab lakho\\appdata\\local\\programs\\python\\python312\\lib\\site-packages (from moviepy>=1.0.1->instabot) (2.34.2)\n",
      "Requirement already satisfied: imageio-ffmpeg>=0.2.0 in c:\\users\\engr zainab lakho\\appdata\\local\\programs\\python\\python312\\lib\\site-packages (from moviepy>=1.0.1->instabot) (0.5.1)\n",
      "Requirement already satisfied: iniconfig in c:\\users\\engr zainab lakho\\appdata\\local\\programs\\python\\python312\\lib\\site-packages (from pytest>=4.6.9->instabot) (2.0.0)\n",
      "Requirement already satisfied: packaging in c:\\users\\engr zainab lakho\\appdata\\local\\programs\\python\\python312\\lib\\site-packages (from pytest>=4.6.9->instabot) (23.2)\n",
      "Requirement already satisfied: pluggy<2.0,>=1.5 in c:\\users\\engr zainab lakho\\appdata\\local\\programs\\python\\python312\\lib\\site-packages (from pytest>=4.6.9->instabot) (1.5.0)\n",
      "Requirement already satisfied: colorama in c:\\users\\engr zainab lakho\\appdata\\local\\programs\\python\\python312\\lib\\site-packages (from pytest>=4.6.9->instabot) (0.4.6)\n",
      "Requirement already satisfied: charset-normalizer<4,>=2 in c:\\users\\engr zainab lakho\\appdata\\local\\programs\\python\\python312\\lib\\site-packages (from requests>=2.22.0->instabot) (3.3.2)\n",
      "Requirement already satisfied: pyyaml in c:\\users\\engr zainab lakho\\appdata\\local\\programs\\python\\python312\\lib\\site-packages (from responses>=0.10.9->instabot) (6.0.1)\n",
      "Requirement already satisfied: setuptools in c:\\users\\engr zainab lakho\\appdata\\local\\programs\\python\\python312\\lib\\site-packages (from imageio-ffmpeg>=0.2.0->moviepy>=1.0.1->instabot) (70.1.1)\n",
      "Note: you may need to restart the kernel to use updated packages.\n"
     ]
    },
    {
     "name": "stderr",
     "output_type": "stream",
     "text": [
      "\n",
      "[notice] A new release of pip is available: 24.0 -> 24.1\n",
      "[notice] To update, run: python.exe -m pip install --upgrade pip\n"
     ]
    }
   ],
   "source": [
    "pip install instabot\n"
   ]
  },
  {
   "cell_type": "markdown",
   "metadata": {},
   "source": [
    "# with this BOT from instabot we can:\n",
    "# follow unfollow\n",
    "# upload pic\n",
    "# view someones's picture,"
   ]
  },
  {
   "cell_type": "code",
   "execution_count": null,
   "metadata": {},
   "outputs": [],
   "source": [
    "from instabot import Bot\n",
    "\n",
    "bot = Bot()\n",
    "userName= input(\"Enter your username: \")\n",
    "Password= input(\"Enter your password: \")\n",
    "bot.login(username = userName, password = Password)\n",
    "\n",
    "# follow someone\n",
    "bot.follow(\"wscubetechindia\")\n",
    "\n",
    "# uploading image\n",
    "bot.upload_photo(\"graduate-2091032_1280.jpg\",caption=\"my graduation\")\n",
    "\n",
    "# unfollow someone\n",
    "bot.unfollow(\"wscubetechindia\")\n",
    "\n",
    "# send messages\n",
    "bot.send_message(\"I love you\",username = \"xyz\") \n",
    "bot.send_message(\"I love you\", [\"abc\",\"xys\"])\n",
    "\n",
    "# all followers list\n",
    "followers = bot.get_user_followers(userName)\n",
    "for i in followers:\n",
    "    print(bot.get_user_info(i))\n",
    "\n",
    "following = bot.get_user_following(userName)\n",
    "for i in following:\n",
    "    print(bot.get_user_info(i))\n",
    "\n"
   ]
  },
  {
   "cell_type": "markdown",
   "metadata": {},
   "source": [
    "# OR"
   ]
  },
  {
   "cell_type": "code",
   "execution_count": null,
   "metadata": {},
   "outputs": [],
   "source": [
    "from instabot import Bot\n",
    "import os\n",
    "\n",
    "# Initialize the bot\n",
    "bot = Bot()\n",
    "\n",
    "# Clear previous cookies\n",
    "if os.path.exists(\"config\"):\n",
    "    for filename in os.listdir(\"config\"):\n",
    "        file_path = os.path.join(\"config\", filename)\n",
    "        os.remove(file_path)\n",
    "\n",
    "# Get user credentials\n",
    "userName = input(\"Enter your username: \")\n",
    "Password = input(\"Enter your password: \")\n",
    "\n",
    "# Attempt to login\n",
    "try:\n",
    "    bot.login(username=userName, password=Password)\n",
    "    print(\"Logged in successfully\")\n",
    "except Exception as e:\n",
    "    print(f\"Login failed: {e}\")\n",
    "\n",
    "# Attempt to follow a user\n",
    "try:\n",
    "    bot.follow(\"wscubetechindia\")\n",
    "    print(\"Followed user successfully\")\n",
    "except Exception as e:\n",
    "    print(f\"Error following user: {e}\")\n",
    "\n",
    "# Attempt to upload a photo\n",
    "try:\n",
    "    bot.upload_photo(\"graduate-2091032_1280.jpg\", caption=\"my graduation\")\n",
    "    print(\"Photo uploaded successfully\")\n",
    "except Exception as e:\n",
    "    print(f\"Error uploading photo: {e}\")\n",
    "\n",
    "# Check the response in case of error\n",
    "response = bot.api.last_response\n",
    "try:\n",
    "    response_data = response.json()\n",
    "except ValueError:\n",
    "    response_data = response.text\n",
    "print(response_data)\n"
   ]
  }
 ],
 "metadata": {
  "kernelspec": {
   "display_name": "Python 3",
   "language": "python",
   "name": "python3"
  },
  "language_info": {
   "codemirror_mode": {
    "name": "ipython",
    "version": 3
   },
   "file_extension": ".py",
   "mimetype": "text/x-python",
   "name": "python",
   "nbconvert_exporter": "python",
   "pygments_lexer": "ipython3",
   "version": "3.12.1"
  }
 },
 "nbformat": 4,
 "nbformat_minor": 2
}
